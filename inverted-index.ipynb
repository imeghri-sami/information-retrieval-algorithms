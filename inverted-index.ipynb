{
 "cells": [
  {
   "cell_type": "markdown",
   "metadata": {},
   "source": [
    "# Inverted-index representation \n",
    "Author : ERRAMI Fatimezzahra<br/>\n",
    "Link to the original repo : https://github.com/F-Errami/IR-algorithms"
   ]
  },
  {
   "cell_type": "code",
   "execution_count": 126,
   "metadata": {},
   "outputs": [
    {
     "name": "stderr",
     "output_type": "stream",
     "text": [
      "[nltk_data] Error loading punkt: <urlopen error [WinError 10060] Une\n",
      "[nltk_data]     tentative de connexion a échoué car le parti connecté\n",
      "[nltk_data]     n’a pas répondu convenablement au-delà d’une certaine\n",
      "[nltk_data]     durée ou une connexion établie a échoué car l’hôte de\n",
      "[nltk_data]     connexion n’a pas répondu>\n",
      "[nltk_data] Error loading stopwords: <urlopen error [WinError 10060]\n",
      "[nltk_data]     Une tentative de connexion a échoué car le parti\n",
      "[nltk_data]     connecté n’a pas répondu convenablement au-delà d’une\n",
      "[nltk_data]     certaine durée ou une connexion établie a échoué car\n",
      "[nltk_data]     l’hôte de connexion n’a pas répondu>\n",
      "[nltk_data] Error loading wordnet: <urlopen error [WinError 10060] Une\n",
      "[nltk_data]     tentative de connexion a échoué car le parti connecté\n",
      "[nltk_data]     n’a pas répondu convenablement au-delà d’une certaine\n",
      "[nltk_data]     durée ou une connexion établie a échoué car l’hôte de\n",
      "[nltk_data]     connexion n’a pas répondu>\n",
      "[nltk_data] Downloading package omw-1.4 to\n",
      "[nltk_data]     D:\\ASUS\\AppData\\Roaming\\nltk_data...\n",
      "[nltk_data]   Package omw-1.4 is already up-to-date!\n",
      "[nltk_data] Downloading package averaged_perceptron_tagger to\n",
      "[nltk_data]     D:\\ASUS\\AppData\\Roaming\\nltk_data...\n",
      "[nltk_data]   Package averaged_perceptron_tagger is already up-to-\n",
      "[nltk_data]       date!\n"
     ]
    }
   ],
   "source": [
    "# AUTHOR : ERRAMI Fatimezahra \n",
    "import nltk\n",
    "nltk.download('punkt')\n",
    "nltk.download('stopwords')\n",
    "nltk.download('wordnet')\n",
    "nltk.download('omw-1.4')\n",
    "nltk.download('averaged_perceptron_tagger')\n",
    "\n",
    "from nltk import word_tokenize\n",
    "from nltk.corpus import stopwords\n",
    "from string import punctuation\n",
    "from nltk.stem import PorterStemmer\n",
    "from nltk.stem import WordNetLemmatizer\n",
    "from nltk import pos_tag"
   ]
  },
  {
   "cell_type": "code",
   "execution_count": 127,
   "metadata": {},
   "outputs": [],
   "source": [
    "# Collection of documents (corpus)\n",
    "doc1 = \"A professional business male, late 40s, 6 feet tall, slim build, well groomed, great personality, home owner, interests include the arts travel and all things good, Ringwood area, is seeking a genuine female of similar age or older, in same area or surrounds, for a meaningful long term rship. Looking forward to hearing from you all.\"\n",
    "doc2 = \"MALE LATE 50''s AUST Single, tall, prof. Interests: Music, theatre, dining, art, the beach and the environment. Seeking female with similar interests to share concerts, dining etc.\"\n",
    "doc3 = \"GENUINE AND HONEST Hi Im 44 with a good sense of humour, am romantic and love drives, fishing, camping and music. Love my 2 kids. Am looking for a lady with similar interests, aged between 38-45 for friendship/ possible relationship.\""
   ]
  },
  {
   "cell_type": "code",
   "execution_count": 128,
   "metadata": {},
   "outputs": [
    {
     "data": {
      "text/plain": [
       "['A professional business male, late 40s, 6 feet tall, slim build, well groomed, great personality, home owner, interests include the arts travel and all things good, Ringwood area, is seeking a genuine female of similar age or older, in same area or surrounds, for a meaningful long term rship. Looking forward to hearing from you all.',\n",
       " \"MALE LATE 50''s AUST Single, tall, prof. Interests: Music, theatre, dining, art, the beach and the environment. Seeking female with similar interests to share concerts, dining etc.\",\n",
       " 'GENUINE AND HONEST Hi Im 44 with a good sense of humour, am romantic and love drives, fishing, camping and music. Love my 2 kids. Am looking for a lady with similar interests, aged between 38-45 for friendship/ possible relationship.']"
      ]
     },
     "execution_count": 128,
     "metadata": {},
     "output_type": "execute_result"
    }
   ],
   "source": [
    "docs = [doc1, doc2, doc3]\n",
    "docs"
   ]
  },
  {
   "cell_type": "markdown",
   "metadata": {},
   "source": [
    "### Text processing "
   ]
  },
  {
   "cell_type": "code",
   "execution_count": 129,
   "metadata": {},
   "outputs": [],
   "source": [
    "def text_preprocessing(corpus) :\n",
    "    print(corpus)\n",
    "    # Tokenize the given document\n",
    "    tokenized = word_tokenize(corpus)\n",
    "    \n",
    "    # Lower case all words\n",
    "    tokenized = [word.lower() for word in tokenized]\n",
    "    \n",
    "    # Remove stopwords\n",
    "    stopwords_en = set(stopwords.words(\"english\"))\n",
    "    stopwords_en = stopwords_en.union(set(punctuation))\n",
    "    tokenized_without_sw = [word for word in tokenized if not word in stopwords_en]\n",
    "    \n",
    "    # Stemming \n",
    "    #porter = PorterStemmer()\n",
    "    #tokenized_without_sw = [porter.stem(word) for word in tokenized_without_sw]\n",
    "    \n",
    "    # POS tagging \n",
    "    doc_tagged = pos_tag(tokenized_without_sw)\n",
    "    \n",
    "    # Lemmatizer\n",
    "    wnl = WordNetLemmatizer()\n",
    "    result = [wnl.lemmatize(word, pos=penn2morphy(tag[:2])) for word, tag in doc_tagged]\n",
    "    \n",
    "    return result"
   ]
  },
  {
   "cell_type": "code",
   "execution_count": 130,
   "metadata": {},
   "outputs": [],
   "source": [
    "def penn2morphy(tag) : \n",
    "    morphy_tag = {'NN':'n', 'JJ':'a',\n",
    "                  'VB':'v', 'RB':'r'}\n",
    "    try:\n",
    "        return morphy_tag[tag]\n",
    "    except:\n",
    "        return 'n' # if mapping isn't found, fall back to Noun."
   ]
  },
  {
   "cell_type": "code",
   "execution_count": 131,
   "metadata": {},
   "outputs": [],
   "source": [
    "def and_postings(posting1, posting2):\n",
    "    p1 = 0\n",
    "    p2 = 0\n",
    "    result = list()\n",
    "    while p1 < len(posting1) and p2 < len(posting2):\n",
    "        if posting1[p1] == posting2[p2]:\n",
    "            result.append(posting1[p1])\n",
    "            p1 += 1\n",
    "            p2 += 1\n",
    "        elif posting1[p1] > posting2[p2]:\n",
    "            p2 += 1\n",
    "        else:\n",
    "            p1 += 1\n",
    "    return result"
   ]
  },
  {
   "cell_type": "code",
   "execution_count": 132,
   "metadata": {},
   "outputs": [],
   "source": [
    "def or_postings(posting1, posting2):\n",
    "    p1 = 0\n",
    "    p2 = 0\n",
    "    result = list()\n",
    "    while p1 < len(posting1) and p2 < len(posting2):\n",
    "        if posting1[p1] == posting2[p2]:\n",
    "            result.append(posting1[p1])\n",
    "            p1 += 1\n",
    "            p2 += 1\n",
    "        elif posting1[p1] > posting2[p2]:\n",
    "            result.append(posting2[p2])\n",
    "            p2 += 1\n",
    "        else:\n",
    "            result.append(posting1[p1])\n",
    "            p1 += 1\n",
    "    while p1 < len(posting1):\n",
    "        result.append(posting1[p1])\n",
    "        p1 += 1\n",
    "    while p2 < len(posting2):\n",
    "        result.append(posting2[p2])\n",
    "        p2 += 1\n",
    "    return result"
   ]
  },
  {
   "cell_type": "code",
   "execution_count": 133,
   "metadata": {},
   "outputs": [
    {
     "name": "stdout",
     "output_type": "stream",
     "text": [
      "A professional business male, late 40s, 6 feet tall, slim build, well groomed, great personality, home owner, interests include the arts travel and all things good, Ringwood area, is seeking a genuine female of similar age or older, in same area or surrounds, for a meaningful long term rship. Looking forward to hearing from you all.\n",
      "MALE LATE 50''s AUST Single, tall, prof. Interests: Music, theatre, dining, art, the beach and the environment. Seeking female with similar interests to share concerts, dining etc.\n",
      "GENUINE AND HONEST Hi Im 44 with a good sense of humour, am romantic and love drives, fishing, camping and music. Love my 2 kids. Am looking for a lady with similar interests, aged between 38-45 for friendship/ possible relationship.\n"
     ]
    },
    {
     "data": {
      "text/plain": [
       "[['professional',\n",
       "  'business',\n",
       "  'male',\n",
       "  'late',\n",
       "  '40',\n",
       "  '6',\n",
       "  'foot',\n",
       "  'tall',\n",
       "  'slim',\n",
       "  'build',\n",
       "  'well',\n",
       "  'groom',\n",
       "  'great',\n",
       "  'personality',\n",
       "  'home',\n",
       "  'owner',\n",
       "  'interest',\n",
       "  'include',\n",
       "  'art',\n",
       "  'travel',\n",
       "  'thing',\n",
       "  'good',\n",
       "  'ringwood',\n",
       "  'area',\n",
       "  'seek',\n",
       "  'genuine',\n",
       "  'female',\n",
       "  'similar',\n",
       "  'age',\n",
       "  'old',\n",
       "  'area',\n",
       "  'surround',\n",
       "  'meaningful',\n",
       "  'long',\n",
       "  'term',\n",
       "  'rship',\n",
       "  'look',\n",
       "  'forward',\n",
       "  'hear'],\n",
       " ['male',\n",
       "  'late',\n",
       "  '50',\n",
       "  \"''\",\n",
       "  'aust',\n",
       "  'single',\n",
       "  'tall',\n",
       "  'prof',\n",
       "  'interest',\n",
       "  'music',\n",
       "  'theatre',\n",
       "  'din',\n",
       "  'art',\n",
       "  'beach',\n",
       "  'environment',\n",
       "  'seek',\n",
       "  'female',\n",
       "  'similar',\n",
       "  'interest',\n",
       "  'share',\n",
       "  'concert',\n",
       "  'din',\n",
       "  'etc'],\n",
       " ['genuine',\n",
       "  'honest',\n",
       "  'hi',\n",
       "  'im',\n",
       "  '44',\n",
       "  'good',\n",
       "  'sense',\n",
       "  'humour',\n",
       "  'romantic',\n",
       "  'love',\n",
       "  'drive',\n",
       "  'fish',\n",
       "  'camp',\n",
       "  'music',\n",
       "  'love',\n",
       "  '2',\n",
       "  'kid',\n",
       "  'look',\n",
       "  'lady',\n",
       "  'similar',\n",
       "  'interest',\n",
       "  'age',\n",
       "  '38-45',\n",
       "  'friendship/',\n",
       "  'possible',\n",
       "  'relationship']]"
      ]
     },
     "execution_count": 133,
     "metadata": {},
     "output_type": "execute_result"
    }
   ],
   "source": [
    "docs_preprocessed = []\n",
    "for doc in docs : \n",
    "    docs_preprocessed.append(text_preprocessing(doc))\n",
    "    \n",
    "docs_preprocessed"
   ]
  },
  {
   "cell_type": "code",
   "execution_count": 134,
   "metadata": {},
   "outputs": [
    {
     "data": {
      "text/plain": [
       "{\"''\",\n",
       " '2',\n",
       " '38-45',\n",
       " '40',\n",
       " '44',\n",
       " '50',\n",
       " '6',\n",
       " 'age',\n",
       " 'area',\n",
       " 'art',\n",
       " 'aust',\n",
       " 'beach',\n",
       " 'build',\n",
       " 'business',\n",
       " 'camp',\n",
       " 'concert',\n",
       " 'din',\n",
       " 'drive',\n",
       " 'environment',\n",
       " 'etc',\n",
       " 'female',\n",
       " 'fish',\n",
       " 'foot',\n",
       " 'forward',\n",
       " 'friendship/',\n",
       " 'genuine',\n",
       " 'good',\n",
       " 'great',\n",
       " 'groom',\n",
       " 'hear',\n",
       " 'hi',\n",
       " 'home',\n",
       " 'honest',\n",
       " 'humour',\n",
       " 'im',\n",
       " 'include',\n",
       " 'interest',\n",
       " 'kid',\n",
       " 'lady',\n",
       " 'late',\n",
       " 'long',\n",
       " 'look',\n",
       " 'love',\n",
       " 'male',\n",
       " 'meaningful',\n",
       " 'music',\n",
       " 'old',\n",
       " 'owner',\n",
       " 'personality',\n",
       " 'possible',\n",
       " 'prof',\n",
       " 'professional',\n",
       " 'relationship',\n",
       " 'ringwood',\n",
       " 'romantic',\n",
       " 'rship',\n",
       " 'seek',\n",
       " 'sense',\n",
       " 'share',\n",
       " 'similar',\n",
       " 'single',\n",
       " 'slim',\n",
       " 'surround',\n",
       " 'tall',\n",
       " 'term',\n",
       " 'theatre',\n",
       " 'thing',\n",
       " 'travel',\n",
       " 'well'}"
      ]
     },
     "execution_count": 134,
     "metadata": {},
     "output_type": "execute_result"
    }
   ],
   "source": [
    "# Gather the set of all unique terms\n",
    "unique_terms = {term for doc in docs_preprocessed for term in doc}\n",
    "unique_terms"
   ]
  },
  {
   "cell_type": "code",
   "execution_count": 135,
   "metadata": {},
   "outputs": [
    {
     "data": {
      "text/plain": [
       "{'professional': {'df': 1, 'postings_list': {0}},\n",
       " 'business': {'df': 1, 'postings_list': {0}},\n",
       " 'male': {'df': 2, 'postings_list': {0, 1}},\n",
       " 'late': {'df': 2, 'postings_list': {0, 1}},\n",
       " '40': {'df': 1, 'postings_list': {0}},\n",
       " '6': {'df': 1, 'postings_list': {0}},\n",
       " 'foot': {'df': 1, 'postings_list': {0}},\n",
       " 'tall': {'df': 2, 'postings_list': {0, 1}},\n",
       " 'slim': {'df': 1, 'postings_list': {0}},\n",
       " 'build': {'df': 1, 'postings_list': {0}},\n",
       " 'well': {'df': 1, 'postings_list': {0}},\n",
       " 'groom': {'df': 1, 'postings_list': {0}},\n",
       " 'great': {'df': 1, 'postings_list': {0}},\n",
       " 'personality': {'df': 1, 'postings_list': {0}},\n",
       " 'home': {'df': 1, 'postings_list': {0}},\n",
       " 'owner': {'df': 1, 'postings_list': {0}},\n",
       " 'interest': {'df': 4, 'postings_list': {0, 1, 2}},\n",
       " 'include': {'df': 1, 'postings_list': {0}},\n",
       " 'art': {'df': 2, 'postings_list': {0, 1}},\n",
       " 'travel': {'df': 1, 'postings_list': {0}},\n",
       " 'thing': {'df': 1, 'postings_list': {0}},\n",
       " 'good': {'df': 2, 'postings_list': {0, 2}},\n",
       " 'ringwood': {'df': 1, 'postings_list': {0}},\n",
       " 'area': {'df': 2, 'postings_list': {0}},\n",
       " 'seek': {'df': 2, 'postings_list': {0, 1}},\n",
       " 'genuine': {'df': 2, 'postings_list': {0, 2}},\n",
       " 'female': {'df': 2, 'postings_list': {0, 1}},\n",
       " 'similar': {'df': 3, 'postings_list': {0, 1, 2}},\n",
       " 'age': {'df': 2, 'postings_list': {0, 2}},\n",
       " 'old': {'df': 1, 'postings_list': {0}},\n",
       " 'surround': {'df': 1, 'postings_list': {0}},\n",
       " 'meaningful': {'df': 1, 'postings_list': {0}},\n",
       " 'long': {'df': 1, 'postings_list': {0}},\n",
       " 'term': {'df': 1, 'postings_list': {0}},\n",
       " 'rship': {'df': 1, 'postings_list': {0}},\n",
       " 'look': {'df': 2, 'postings_list': {0, 2}},\n",
       " 'forward': {'df': 1, 'postings_list': {0}},\n",
       " 'hear': {'df': 1, 'postings_list': {0}},\n",
       " '50': {'df': 1, 'postings_list': {1}},\n",
       " \"''\": {'df': 1, 'postings_list': {1}},\n",
       " 'aust': {'df': 1, 'postings_list': {1}},\n",
       " 'single': {'df': 1, 'postings_list': {1}},\n",
       " 'prof': {'df': 1, 'postings_list': {1}},\n",
       " 'music': {'df': 2, 'postings_list': {1, 2}},\n",
       " 'theatre': {'df': 1, 'postings_list': {1}},\n",
       " 'din': {'df': 2, 'postings_list': {1}},\n",
       " 'beach': {'df': 1, 'postings_list': {1}},\n",
       " 'environment': {'df': 1, 'postings_list': {1}},\n",
       " 'share': {'df': 1, 'postings_list': {1}},\n",
       " 'concert': {'df': 1, 'postings_list': {1}},\n",
       " 'etc': {'df': 1, 'postings_list': {1}},\n",
       " 'honest': {'df': 1, 'postings_list': {2}},\n",
       " 'hi': {'df': 1, 'postings_list': {2}},\n",
       " 'im': {'df': 1, 'postings_list': {2}},\n",
       " '44': {'df': 1, 'postings_list': {2}},\n",
       " 'sense': {'df': 1, 'postings_list': {2}},\n",
       " 'humour': {'df': 1, 'postings_list': {2}},\n",
       " 'romantic': {'df': 1, 'postings_list': {2}},\n",
       " 'love': {'df': 2, 'postings_list': {2}},\n",
       " 'drive': {'df': 1, 'postings_list': {2}},\n",
       " 'fish': {'df': 1, 'postings_list': {2}},\n",
       " 'camp': {'df': 1, 'postings_list': {2}},\n",
       " '2': {'df': 1, 'postings_list': {2}},\n",
       " 'kid': {'df': 1, 'postings_list': {2}},\n",
       " 'lady': {'df': 1, 'postings_list': {2}},\n",
       " '38-45': {'df': 1, 'postings_list': {2}},\n",
       " 'friendship/': {'df': 1, 'postings_list': {2}},\n",
       " 'possible': {'df': 1, 'postings_list': {2}},\n",
       " 'relationship': {'df': 1, 'postings_list': {2}}}"
      ]
     },
     "execution_count": 135,
     "metadata": {},
     "output_type": "execute_result"
    }
   ],
   "source": [
    "# Construct an inverted index\n",
    "# here as a Python dictionary for ease of interpretability\n",
    "import collections \n",
    "\n",
    "inverted_index = {}\n",
    "\n",
    "for i, doc in enumerate(docs_preprocessed):\n",
    "    for term in doc:\n",
    "        if not term in inverted_index :\n",
    "            inverted_index[term] = {'df': 1, 'postings_list': set()}\n",
    "            inverted_index[term]['postings_list'].add(i)\n",
    "        else : \n",
    "            inverted_index[term]['postings_list'].add(i)\n",
    "            inverted_index[term]['df'] += 1\n",
    "\n",
    "inverted_index"
   ]
  },
  {
   "cell_type": "code",
   "execution_count": 136,
   "metadata": {},
   "outputs": [],
   "source": [
    "# Now we can get posting lists for any term"
   ]
  },
  {
   "cell_type": "code",
   "execution_count": 137,
   "metadata": {},
   "outputs": [
    {
     "data": {
      "text/plain": [
       "{0, 1}"
      ]
     },
     "execution_count": 137,
     "metadata": {},
     "output_type": "execute_result"
    }
   ],
   "source": [
    "posting_list = inverted_index['male']['postings_list']\n",
    "posting_list"
   ]
  },
  {
   "cell_type": "code",
   "execution_count": 138,
   "metadata": {},
   "outputs": [
    {
     "name": "stdout",
     "output_type": "stream",
     "text": [
      "male\n",
      "A professional business male, late 40s, 6 feet tall, slim build, well groomed, great personality, home owner, interests include the arts travel and all things good, Ringwood area, is seeking a genuine female of similar age or older, in same area or surrounds, for a meaningful long term rship. Looking forward to hearing from you all.\n",
      "\n",
      "MALE LATE 50''s AUST Single, tall, prof. Interests: Music, theatre, dining, art, the beach and the environment. Seeking female with similar interests to share concerts, dining etc.\n",
      "\n",
      "GENUINE AND HONEST Hi Im 44 with a good sense of humour, am romantic and love drives, fishing, camping and music. Love my 2 kids. Am looking for a lady with similar interests, aged between 38-45 for friendship/ possible relationship.\n",
      "\n"
     ]
    }
   ],
   "source": [
    "query = \"interest OR male\"\n",
    "query = query.split(\" OR \")\n",
    "\n",
    "pl_1 = list(inverted_index[query[0]]['postings_list'])\n",
    "pl_2 = list(inverted_index[\"\".join(text_preprocessing(query[1]))]['postings_list'])\n",
    "results = or_postings(pl_1, pl_2)\n",
    "for rs in results:\n",
    "    print(docs[rs]+\"\\n\")"
   ]
  },
  {
   "cell_type": "code",
   "execution_count": 139,
   "metadata": {},
   "outputs": [
    {
     "name": "stdout",
     "output_type": "stream",
     "text": [
      "A professional business male, late 40s, 6 feet tall, slim build, well groomed, great personality, home owner, interests include the arts travel and all things good, Ringwood area, is seeking a genuine female of similar age or older, in same area or surrounds, for a meaningful long term rship. Looking forward to hearing from you all.\n",
      "\n"
     ]
    }
   ],
   "source": [
    "query = \"seek AND build\"\n",
    "query = query.split(\" AND \")\n",
    "\n",
    "pl_1 = list(inverted_index[query[0]]['postings_list'])\n",
    "pl_2 = list(inverted_index[query[1]]['postings_list'])\n",
    "results = and_postings(pl_1, pl_2)\n",
    "for rs in results:\n",
    "    print(docs[rs]+\"\\n\")"
   ]
  },
  {
   "cell_type": "code",
   "execution_count": 140,
   "metadata": {},
   "outputs": [
    {
     "name": "stdout",
     "output_type": "stream",
     "text": [
      "the romantic and build as home\n"
     ]
    },
    {
     "data": {
      "text/plain": [
       "['romantic', 'build', 'home']"
      ]
     },
     "execution_count": 140,
     "metadata": {},
     "output_type": "execute_result"
    }
   ],
   "source": [
    "query = \"the romantic and build as home\"\n",
    "normalized_query = text_preprocessing(query)\n",
    "\n",
    "normalized_query"
   ]
  },
  {
   "cell_type": "code",
   "execution_count": 142,
   "metadata": {},
   "outputs": [
    {
     "name": "stdout",
     "output_type": "stream",
     "text": [
      "A professional business male, late 40s, 6 feet tall, slim build, well groomed, great personality, home owner, interests include the arts travel and all things good, Ringwood area, is seeking a genuine female of similar age or older, in same area or surrounds, for a meaningful long term rship. Looking forward to hearing from you all.\n",
      "\n",
      "GENUINE AND HONEST Hi Im 44 with a good sense of humour, am romantic and love drives, fishing, camping and music. Love my 2 kids. Am looking for a lady with similar interests, aged between 38-45 for friendship/ possible relationship.\n",
      "\n"
     ]
    }
   ],
   "source": [
    "results = or_postings(or_postings(list(inverted_index[normalized_query[0]]['postings_list']), list(inverted_index[normalized_query[1]]['postings_list'])), list(inverted_index[normalized_query[2]]['postings_list']))\n",
    "\n",
    "for rs in results:\n",
    "    print(docs[rs]+\"\\n\")\n"
   ]
  },
  {
   "cell_type": "code",
   "execution_count": null,
   "metadata": {},
   "outputs": [],
   "source": []
  }
 ],
 "metadata": {
  "kernelspec": {
   "display_name": "Python 3 (ipykernel)",
   "language": "python",
   "name": "python3"
  },
  "language_info": {
   "codemirror_mode": {
    "name": "ipython",
    "version": 3
   },
   "file_extension": ".py",
   "mimetype": "text/x-python",
   "name": "python",
   "nbconvert_exporter": "python",
   "pygments_lexer": "ipython3",
   "version": "3.9.12"
  }
 },
 "nbformat": 4,
 "nbformat_minor": 2
}
