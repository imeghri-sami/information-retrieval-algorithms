{
 "cells": [
  {
   "cell_type": "code",
   "execution_count": 1,
   "id": "a371b21b",
   "metadata": {},
   "outputs": [
    {
     "name": "stderr",
     "output_type": "stream",
     "text": [
      "[nltk_data] Downloading package punkt to\n",
      "[nltk_data]     D:\\ASUS\\AppData\\Roaming\\nltk_data...\n",
      "[nltk_data]   Package punkt is already up-to-date!\n",
      "[nltk_data] Downloading package wordnet to\n",
      "[nltk_data]     D:\\ASUS\\AppData\\Roaming\\nltk_data...\n",
      "[nltk_data]   Package wordnet is already up-to-date!\n",
      "[nltk_data] Downloading package omw-1.4 to\n",
      "[nltk_data]     D:\\ASUS\\AppData\\Roaming\\nltk_data...\n",
      "[nltk_data]   Package omw-1.4 is already up-to-date!\n",
      "[nltk_data] Downloading package averaged_perceptron_tagger to\n",
      "[nltk_data]     D:\\ASUS\\AppData\\Roaming\\nltk_data...\n",
      "[nltk_data]   Package averaged_perceptron_tagger is already up-to-\n",
      "[nltk_data]       date!\n"
     ]
    }
   ],
   "source": [
    "import nltk\n",
    "nltk.download('punkt')\n",
    "nltk.download('wordnet')\n",
    "nltk.download('omw-1.4')\n",
    "nltk.download('averaged_perceptron_tagger')\n",
    "\n",
    "from nltk import word_tokenize\n",
    "from nltk.corpus import stopwords\n",
    "from string import punctuation\n",
    "from nltk.stem import PorterStemmer\n",
    "from nltk.stem import WordNetLemmatizer\n",
    "from nltk import pos_tag"
   ]
  },
  {
   "cell_type": "code",
   "execution_count": 2,
   "id": "bb0158af",
   "metadata": {},
   "outputs": [],
   "source": [
    "document1 = \"A professional business male, late 40s, 6 feet tall, slim build, well groomed, great personality, home owner, interests include the arts travel and all things good, Ringwood area, is seeking a genuine female of similar age or older, in same area or surrounds, for a meaningful long term rship. Looking forward to hearing from you all.\"\n",
    "document2 = \"MALE LATE 50''s AUST Single, tall, prof. Interests: Music, theatre, dining, art, the beach and the environment. Seeking female with similar interests to share concerts, dining etc.\"\n",
    "document3 = \"GENUINE AND HONEST Hi Im 44 with a good sense of humour, am romantic and love drives, fishing, camping and music. Love my 2 kids. Am looking for a lady with similar interests, aged between 38-45 for friendship/ possible relationship.\""
   ]
  },
  {
   "cell_type": "code",
   "execution_count": 3,
   "id": "21eba09a",
   "metadata": {},
   "outputs": [
    {
     "data": {
      "text/plain": [
       "['A professional business male, late 40s, 6 feet tall, slim build, well groomed, great personality, home owner, interests include the arts travel and all things good, Ringwood area, is seeking a genuine female of similar age or older, in same area or surrounds, for a meaningful long term rship. Looking forward to hearing from you all.',\n",
       " \"MALE LATE 50''s AUST Single, tall, prof. Interests: Music, theatre, dining, art, the beach and the environment. Seeking female with similar interests to share concerts, dining etc.\",\n",
       " 'GENUINE AND HONEST Hi Im 44 with a good sense of humour, am romantic and love drives, fishing, camping and music. Love my 2 kids. Am looking for a lady with similar interests, aged between 38-45 for friendship/ possible relationship.']"
      ]
     },
     "execution_count": 3,
     "metadata": {},
     "output_type": "execute_result"
    }
   ],
   "source": [
    "docs = [document1, document2, document3]\n",
    "docs"
   ]
  },
  {
   "cell_type": "markdown",
   "id": "da36db33",
   "metadata": {},
   "source": [
    "### Text preprocessing :\n",
    "- Tokenization\n",
    "- Lower casing\n",
    "- Remove stopwords and punctuation\n",
    "- Part of speech tagging\n",
    "- Lemmatizing  "
   ]
  },
  {
   "cell_type": "code",
   "execution_count": 15,
   "id": "0557acfa",
   "metadata": {},
   "outputs": [],
   "source": [
    "def text_preprocessing(corpus) :\n",
    "    print(corpus)\n",
    "    # Tokenize the given document\n",
    "    tokenized = word_tokenize(corpus)\n",
    "    \n",
    "    # Lower case all words\n",
    "    tokenized = [word.lower() for word in tokenized]\n",
    "    \n",
    "    # Remove stopwords\n",
    "    stopwords_en = set(stopwords.words(\"english\"))\n",
    "    stopwords_en = stopwords_en.union(set(punctuation))\n",
    "    tokenized_without_sw = [word for word in tokenized if not word in stopwords_en]\n",
    "    \n",
    "    # Stemming \n",
    "    #porter = PorterStemmer()\n",
    "    #tokenized_without_sw = [porter.stem(word) for word in tokenized_without_sw]\n",
    "    \n",
    "    # POS tagging \n",
    "    doc_tagged = pos_tag(tokenized_without_sw)\n",
    "    \n",
    "    # Lemmatizer\n",
    "    wnl = WordNetLemmatizer()\n",
    "    result = [wnl.lemmatize(word, pos=penn2morphy(tag[:2])) for word, tag in doc_tagged]\n",
    "    \n",
    "    return result"
   ]
  },
  {
   "cell_type": "code",
   "execution_count": 5,
   "id": "7785c0cb",
   "metadata": {},
   "outputs": [],
   "source": [
    "def penn2morphy(tag) : \n",
    "    morphy_tag = {'NN':'n', 'JJ':'a',\n",
    "                  'VB':'v', 'RB':'r'}\n",
    "    try:\n",
    "        return morphy_tag[tag]\n",
    "    except:\n",
    "        return 'n' # if mapping isn't found, fall back to Noun."
   ]
  },
  {
   "cell_type": "code",
   "execution_count": 6,
   "id": "5fb8f502",
   "metadata": {},
   "outputs": [
    {
     "name": "stdout",
     "output_type": "stream",
     "text": [
      "A professional business male, late 40s, 6 feet tall, slim build, well groomed, great personality, home owner, interests include the arts travel and all things good, Ringwood area, is seeking a genuine female of similar age or older, in same area or surrounds, for a meaningful long term rship. Looking forward to hearing from you all.\n",
      "[('professional', 'JJ'), ('business', 'NN'), ('male', 'NN'), ('late', 'JJ'), ('40s', 'CD'), ('6', 'CD'), ('feet', 'NNS'), ('tall', 'JJ'), ('slim', 'JJ'), ('build', 'NN'), ('well', 'RB'), ('groomed', 'VBD'), ('great', 'JJ'), ('personality', 'NN'), ('home', 'NN'), ('owner', 'NN'), ('interests', 'NNS'), ('include', 'VBP'), ('arts', 'NNS'), ('travel', 'JJ'), ('things', 'NNS'), ('good', 'JJ'), ('ringwood', 'NN'), ('area', 'NN'), ('seeking', 'VBG'), ('genuine', 'JJ'), ('female', 'NN'), ('similar', 'JJ'), ('age', 'NN'), ('older', 'JJR'), ('area', 'NN'), ('surrounds', 'NNS'), ('meaningful', 'JJ'), ('long', 'JJ'), ('term', 'NN'), ('rship', 'NN'), ('looking', 'VBG'), ('forward', 'RB'), ('hearing', 'VBG')]\n",
      "MALE LATE 50''s AUST Single, tall, prof. Interests: Music, theatre, dining, art, the beach and the environment. Seeking female with similar interests to share concerts, dining etc.\n",
      "[('male', 'NN'), ('late', 'JJ'), ('50', 'CD'), (\"''\", \"''\"), ('aust', 'NN'), ('single', 'JJ'), ('tall', 'JJ'), ('prof', 'NN'), ('interests', 'NNS'), ('music', 'NN'), ('theatre', 'NN'), ('dining', 'VBG'), ('art', 'RB'), ('beach', 'NN'), ('environment', 'NN'), ('seeking', 'VBG'), ('female', 'JJ'), ('similar', 'JJ'), ('interests', 'NNS'), ('share', 'NN'), ('concerts', 'VBZ'), ('dining', 'VBG'), ('etc', 'VB')]\n",
      "GENUINE AND HONEST Hi Im 44 with a good sense of humour, am romantic and love drives, fishing, camping and music. Love my 2 kids. Am looking for a lady with similar interests, aged between 38-45 for friendship/ possible relationship.\n",
      "[('genuine', 'JJ'), ('honest', 'JJS'), ('hi', 'NN'), ('im', 'NN'), ('44', 'CD'), ('good', 'JJ'), ('sense', 'NN'), ('humour', 'PRP$'), ('romantic', 'JJ'), ('love', 'NN'), ('drives', 'NNS'), ('fishing', 'VBG'), ('camping', 'VBG'), ('music', 'NN'), ('love', 'NN'), ('2', 'CD'), ('kids', 'NNS'), ('looking', 'VBG'), ('lady', 'JJ'), ('similar', 'JJ'), ('interests', 'NNS'), ('aged', 'VBD'), ('38-45', 'JJ'), ('friendship/', 'NN'), ('possible', 'JJ'), ('relationship', 'NN')]\n"
     ]
    },
    {
     "data": {
      "text/plain": [
       "[['professional',\n",
       "  'business',\n",
       "  'male',\n",
       "  'late',\n",
       "  '40',\n",
       "  '6',\n",
       "  'foot',\n",
       "  'tall',\n",
       "  'slim',\n",
       "  'build',\n",
       "  'well',\n",
       "  'groom',\n",
       "  'great',\n",
       "  'personality',\n",
       "  'home',\n",
       "  'owner',\n",
       "  'interest',\n",
       "  'include',\n",
       "  'art',\n",
       "  'travel',\n",
       "  'thing',\n",
       "  'good',\n",
       "  'ringwood',\n",
       "  'area',\n",
       "  'seek',\n",
       "  'genuine',\n",
       "  'female',\n",
       "  'similar',\n",
       "  'age',\n",
       "  'old',\n",
       "  'area',\n",
       "  'surround',\n",
       "  'meaningful',\n",
       "  'long',\n",
       "  'term',\n",
       "  'rship',\n",
       "  'look',\n",
       "  'forward',\n",
       "  'hear'],\n",
       " ['male',\n",
       "  'late',\n",
       "  '50',\n",
       "  \"''\",\n",
       "  'aust',\n",
       "  'single',\n",
       "  'tall',\n",
       "  'prof',\n",
       "  'interest',\n",
       "  'music',\n",
       "  'theatre',\n",
       "  'din',\n",
       "  'art',\n",
       "  'beach',\n",
       "  'environment',\n",
       "  'seek',\n",
       "  'female',\n",
       "  'similar',\n",
       "  'interest',\n",
       "  'share',\n",
       "  'concert',\n",
       "  'din',\n",
       "  'etc'],\n",
       " ['genuine',\n",
       "  'honest',\n",
       "  'hi',\n",
       "  'im',\n",
       "  '44',\n",
       "  'good',\n",
       "  'sense',\n",
       "  'humour',\n",
       "  'romantic',\n",
       "  'love',\n",
       "  'drive',\n",
       "  'fish',\n",
       "  'camp',\n",
       "  'music',\n",
       "  'love',\n",
       "  '2',\n",
       "  'kid',\n",
       "  'look',\n",
       "  'lady',\n",
       "  'similar',\n",
       "  'interest',\n",
       "  'age',\n",
       "  '38-45',\n",
       "  'friendship/',\n",
       "  'possible',\n",
       "  'relationship']]"
      ]
     },
     "execution_count": 6,
     "metadata": {},
     "output_type": "execute_result"
    }
   ],
   "source": [
    "docs_preprocessed = []\n",
    "for doc in docs : \n",
    "    docs_preprocessed.append(text_preprocessing (doc))\n",
    "    \n",
    "docs_preprocessed"
   ]
  },
  {
   "cell_type": "markdown",
   "id": "06c7fd51",
   "metadata": {},
   "source": [
    "### Term-document matrix"
   ]
  },
  {
   "cell_type": "code",
   "execution_count": 7,
   "id": "785f8f15",
   "metadata": {},
   "outputs": [
    {
     "data": {
      "text/plain": [
       "88"
      ]
     },
     "execution_count": 7,
     "metadata": {},
     "output_type": "execute_result"
    }
   ],
   "source": [
    "sum([len(doc) for doc in docs_preprocessed])"
   ]
  },
  {
   "cell_type": "code",
   "execution_count": 8,
   "id": "38e2bd12",
   "metadata": {},
   "outputs": [
    {
     "data": {
      "text/plain": [
       "69"
      ]
     },
     "execution_count": 8,
     "metadata": {},
     "output_type": "execute_result"
    }
   ],
   "source": [
    "uniq_terms = set()\n",
    "for doc in docs_preprocessed :\n",
    "    uniq_terms.update([term for term in doc])\n",
    "len(uniq_terms)"
   ]
  },
  {
   "cell_type": "markdown",
   "id": "8fce18d8",
   "metadata": {},
   "source": [
    "Construct term-document matrix"
   ]
  },
  {
   "cell_type": "code",
   "execution_count": 9,
   "id": "6dd06ea1",
   "metadata": {},
   "outputs": [
    {
     "data": {
      "text/plain": [
       "{'beach': [0, 1, 0],\n",
       " 'hi': [0, 0, 1],\n",
       " 'friendship/': [0, 0, 1],\n",
       " 'possible': [0, 0, 1],\n",
       " 'personality': [1, 0, 0],\n",
       " 'meaningful': [1, 0, 0],\n",
       " 'well': [1, 0, 0],\n",
       " 'theatre': [0, 1, 0],\n",
       " 'camp': [0, 0, 1],\n",
       " 'tall': [1, 1, 0],\n",
       " 'art': [1, 1, 0],\n",
       " '50': [0, 1, 0],\n",
       " 'build': [1, 0, 0],\n",
       " '44': [0, 0, 1],\n",
       " 'slim': [1, 0, 0],\n",
       " 'romantic': [0, 0, 1],\n",
       " 'seek': [1, 1, 0],\n",
       " '2': [0, 0, 1],\n",
       " 'long': [1, 0, 0],\n",
       " 'male': [1, 1, 0],\n",
       " '40': [1, 0, 0],\n",
       " 'hear': [1, 0, 0],\n",
       " 'share': [0, 1, 0],\n",
       " 'aust': [0, 1, 0],\n",
       " 'etc': [0, 1, 0],\n",
       " 'genuine': [1, 0, 1],\n",
       " 'sense': [0, 0, 1],\n",
       " 'professional': [1, 0, 0],\n",
       " 'im': [0, 0, 1],\n",
       " 'love': [0, 0, 1],\n",
       " 'drive': [0, 0, 1],\n",
       " 'fish': [0, 0, 1],\n",
       " 'honest': [0, 0, 1],\n",
       " 'rship': [1, 0, 0],\n",
       " 'similar': [1, 1, 1],\n",
       " 'single': [0, 1, 0],\n",
       " 'business': [1, 0, 0],\n",
       " 'surround': [1, 0, 0],\n",
       " 'forward': [1, 0, 0],\n",
       " 'din': [0, 1, 0],\n",
       " \"''\": [0, 1, 0],\n",
       " 'thing': [1, 0, 0],\n",
       " 'age': [1, 0, 1],\n",
       " 'humour': [0, 0, 1],\n",
       " 'great': [1, 0, 0],\n",
       " 'groom': [1, 0, 0],\n",
       " 'home': [1, 0, 0],\n",
       " 'term': [1, 0, 0],\n",
       " '38-45': [0, 0, 1],\n",
       " '6': [1, 0, 0],\n",
       " 'environment': [0, 1, 0],\n",
       " 'ringwood': [1, 0, 0],\n",
       " 'prof': [0, 1, 0],\n",
       " 'relationship': [0, 0, 1],\n",
       " 'look': [1, 0, 1],\n",
       " 'good': [1, 0, 1],\n",
       " 'concert': [0, 1, 0],\n",
       " 'interest': [1, 1, 1],\n",
       " 'include': [1, 0, 0],\n",
       " 'area': [1, 0, 0],\n",
       " 'kid': [0, 0, 1],\n",
       " 'female': [1, 1, 0],\n",
       " 'late': [1, 1, 0],\n",
       " 'travel': [1, 0, 0],\n",
       " 'music': [0, 1, 1],\n",
       " 'lady': [0, 0, 1],\n",
       " 'old': [1, 0, 0],\n",
       " 'foot': [1, 0, 0],\n",
       " 'owner': [1, 0, 0]}"
      ]
     },
     "execution_count": 9,
     "metadata": {},
     "output_type": "execute_result"
    }
   ],
   "source": [
    "doc_term_matrix = {}\n",
    "\n",
    "for term in uniq_terms :\n",
    "    doc_term_matrix[term] = []\n",
    "    for doc in docs_preprocessed : \n",
    "        if term in doc :\n",
    "            doc_term_matrix[term].append(1)\n",
    "        else :\n",
    "            doc_term_matrix[term].append(0)\n",
    "            \n",
    "doc_term_matrix"
   ]
  },
  {
   "cell_type": "code",
   "execution_count": 19,
   "id": "8200016c",
   "metadata": {},
   "outputs": [
    {
     "data": {
      "text/plain": [
       "['Seek', 'dining']"
      ]
     },
     "execution_count": 19,
     "metadata": {},
     "output_type": "execute_result"
    }
   ],
   "source": [
    "import numpy as np\n",
    "query = \"Seek AND dining\"\n",
    "query = query.split(\" AND \")\n",
    "\n",
    "query "
   ]
  },
  {
   "cell_type": "code",
   "execution_count": 20,
   "id": "04e093b5",
   "metadata": {},
   "outputs": [
    {
     "name": "stdout",
     "output_type": "stream",
     "text": [
      "Seek\n",
      "dining\n"
     ]
    },
    {
     "data": {
      "text/plain": [
       "['seek', 'din']"
      ]
     },
     "execution_count": 20,
     "metadata": {},
     "output_type": "execute_result"
    }
   ],
   "source": [
    "_query = []\n",
    "_query.append(text_preprocessing(query[0])[0])\n",
    "_query.append(text_preprocessing(query[1])[0])\n",
    "_query"
   ]
  },
  {
   "cell_type": "code",
   "execution_count": 22,
   "id": "0e1608f6",
   "metadata": {},
   "outputs": [
    {
     "name": "stdout",
     "output_type": "stream",
     "text": [
      "[1 1 0] [0 1 0]\n"
     ]
    },
    {
     "data": {
      "text/plain": [
       "array([0, 1, 0], dtype=int32)"
      ]
     },
     "execution_count": 22,
     "metadata": {},
     "output_type": "execute_result"
    }
   ],
   "source": [
    "v1 = np.array(doc_term_matrix[_query[0]])\n",
    "v2 = np.array(doc_term_matrix[_query[1]])\n",
    "\n",
    "v3 = v1 & v2\n",
    "print(v1, v2)\n",
    "v3"
   ]
  },
  {
   "cell_type": "code",
   "execution_count": 23,
   "id": "13d25284",
   "metadata": {},
   "outputs": [],
   "source": [
    "def get_doc_indexes(vector):\n",
    "    indexes = []\n",
    "    for i, v in enumerate(vector) :\n",
    "        if v :\n",
    "            indexes.append(i)\n",
    "    return indexes"
   ]
  },
  {
   "cell_type": "code",
   "execution_count": 24,
   "id": "7d815d0e",
   "metadata": {},
   "outputs": [],
   "source": [
    "indexes = get_doc_indexes(v3)"
   ]
  },
  {
   "cell_type": "code",
   "execution_count": 25,
   "id": "ba56e3ee",
   "metadata": {},
   "outputs": [
    {
     "name": "stdout",
     "output_type": "stream",
     "text": [
      "MALE LATE 50''s AUST Single, tall, prof. Interests: Music, theatre, dining, art, the beach and the environment. Seeking female with similar interests to share concerts, dining etc.\n"
     ]
    }
   ],
   "source": [
    "for i in indexes :\n",
    "    print(docs[i])"
   ]
  },
  {
   "cell_type": "code",
   "execution_count": null,
   "id": "9a8db838",
   "metadata": {},
   "outputs": [],
   "source": []
  }
 ],
 "metadata": {
  "kernelspec": {
   "display_name": "Python 3 (ipykernel)",
   "language": "python",
   "name": "python3"
  },
  "language_info": {
   "codemirror_mode": {
    "name": "ipython",
    "version": 3
   },
   "file_extension": ".py",
   "mimetype": "text/x-python",
   "name": "python",
   "nbconvert_exporter": "python",
   "pygments_lexer": "ipython3",
   "version": "3.9.12"
  }
 },
 "nbformat": 4,
 "nbformat_minor": 5
}
